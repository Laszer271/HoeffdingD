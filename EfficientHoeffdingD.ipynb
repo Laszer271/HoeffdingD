{
  "nbformat": 4,
  "nbformat_minor": 0,
  "metadata": {
    "colab": {
      "name": "EfficientHoeffdingD.ipynb",
      "version": "0.3.2",
      "provenance": [],
      "include_colab_link": true
    },
    "kernelspec": {
      "name": "python3",
      "display_name": "Python 3"
    }
  },
  "cells": [
    {
      "cell_type": "markdown",
      "metadata": {
        "id": "view-in-github",
        "colab_type": "text"
      },
      "source": [
        "<a href=\"https://colab.research.google.com/github/PaulVanDev/HoeffdingD/blob/master/EfficientHoeffdingD.ipynb\" target=\"_parent\"><img src=\"https://colab.research.google.com/assets/colab-badge.svg\" alt=\"Open In Colab\"/></a>"
      ]
    },
    {
      "cell_type": "code",
      "metadata": {
        "id": "o-aazfleh-3B",
        "colab_type": "code",
        "colab": {}
      },
      "source": [
        "import pandas as pd\n",
        "import numpy as np\n",
        "from scipy.stats import rankdata\n",
        "from scipy.signal import decimate\n",
        "import math\n",
        "import time\n",
        "from sklearn.preprocessing import KBinsDiscretizer"
      ],
      "execution_count": 0,
      "outputs": []
    },
    {
      "cell_type": "markdown",
      "metadata": {
        "id": "gK1d4VwhzGNU",
        "colab_type": "text"
      },
      "source": [
        "# Direct transcription of Matlab code / Used as reference\n",
        "\n",
        "References:\n",
        "matlab code\n",
        "\n",
        "https://stackoverflow.com/questions/9270496/ideas-for-gpu-implementation-of-hoeffdings-d-dependence-coefficient/9322657#9322657\n",
        "\n",
        "HoeffdingD formule\n",
        "\n",
        "http://support.sas.com/documentation/cdl/en/procstat/63104/HTML/default/viewer.htm#procstat_corr_sect016.htm"
      ]
    },
    {
      "cell_type": "code",
      "metadata": {
        "id": "n4UaXRmaiDre",
        "colab_type": "code",
        "colab": {}
      },
      "source": [
        "# Direct transcription of R code / Used as reference\n",
        "def hoeffdingsD( x, y ):\n",
        "\n",
        "    #N = size(x,1);\n",
        "    N=x.shape\n",
        "    #R = tiedrank( x );\n",
        "    R=rankdata(x)\n",
        "    #S = tiedrank( y );\n",
        "    S=rankdata(y)\n",
        "\n",
        "    #Q = zeros(N,1);\n",
        "    Q=np.zeros(N[0])\n",
        "    #parfor i = 1:N\n",
        "    for i in range(0, N[0]):\n",
        "        #Q[i] = 1 + sum( R < R[i] & S < S[i] );\n",
        "        Q[i] = 1 + np.sum(np.bitwise_and(R<R[i] ,S<S[i]))\n",
        "        #% and deal with cases where one or both values are ties, which contribute less\n",
        "        #Q[i] = Q[i] + 1/4 * (sum( R == R[i] & S == S[i] ) - 1); #% both indices tie.  -1 because we know point i matches\n",
        "        Q[i] = Q[i] + 1/4 * (np.sum(np.bitwise_and(np.isin(R,R[i]),np.isin(S,S[i])))-1)\n",
        "        #Q[i] = Q[i] + 1/2 * sum( R == R[i] & S < S[i] ); #% one index ties.\n",
        "        Q[i] = Q[i] + 1/2 * (np.sum(np.bitwise_and(np.isin(R,R[i]),S<S[i])))\n",
        "        #Q[i] = Q[i] + 1/2 * sum( R < R[i] & S == S[i] ); #% one index ties.\n",
        "        Q[i] = Q[i] + 1/2 * (np.sum(np.bitwise_and(R<R[i],np.isin(S,S[i])))) \n",
        "    #D1 = sum( (Q-1).*(Q-2) );\n",
        "    #D2 = sum( (R-1).*(R-2).*(S-1).*(S-2) );\n",
        "    #D3 = sum( (R-2).*(S-2).*(Q-1) );\n",
        "    D1 = np.sum( np.multiply((Q-1),(Q-2)) );\n",
        "    D2 = np.sum( np.multiply(np.multiply((R-1),(R-2)),np.multiply((S-1),(S-2)) ) );\n",
        "    D3 = np.sum( np.multiply(np.multiply((R-2),(S-2)),(Q-1)) );\n",
        "\n",
        "\n",
        "    D = 30*((N[0]-2)*(N[0]-3)*D1 + D2 - 2*(N[0]-2)*D3) / (N[0]*(N[0]-1)*(N[0]-2)*(N[0]-3)*(N[0]-4));\n",
        "    #p=(N[0]-1)*D*math.pow(math.pi, 4)/60+math.pow(math.pi, 4)/72\n",
        "\n",
        "    return D"
      ],
      "execution_count": 0,
      "outputs": []
    },
    {
      "cell_type": "markdown",
      "metadata": {
        "id": "glSLnbR50jcd",
        "colab_type": "text"
      },
      "source": [
        ""
      ]
    },
    {
      "cell_type": "markdown",
      "metadata": {
        "id": "3slAnEuszalx",
        "colab_type": "text"
      },
      "source": [
        "# My best python implementation of HoeffdingD"
      ]
    },
    {
      "cell_type": "code",
      "metadata": {
        "id": "csQoV2H4VI2V",
        "colab_type": "code",
        "colab": {}
      },
      "source": [
        "# Best Python implementation\n",
        "\n",
        "def efficienthoeffdingsD( xin, yin ):\n",
        "  \n",
        "    #crop data to the smallest array, length have to be equal\n",
        "    if len(xin)<len(yin):\n",
        "      yin=yin[:len(xin)]\n",
        "    if len(xin)>len(yin):\n",
        "      xin=xin[:len(yin)]\n",
        "      \n",
        "    # dropna\n",
        "    x = xin[~(np.isnan(xin) | np.isnan(yin))]\n",
        "    y = yin[~(np.isnan(xin) | np.isnan(yin))]\n",
        "\n",
        "    # undersampling if length too long\n",
        "    lenx=len(x)\n",
        "    if lenx>100000:\n",
        "        factor=math.ceil(lenx/100000)\n",
        "        x=x[::factor]\n",
        "        y=y[::factor]\n",
        "    \n",
        "    # bining if too much \"definition\"\n",
        "    if len(np.unique(x))>50:\n",
        "        est = KBinsDiscretizer(n_bins=50, encode='ordinal', strategy='uniform')\n",
        "        est.fit(x.reshape(-1, 1))  \n",
        "        Rtemp = est.transform(x.reshape(-1, 1))\n",
        "        R=rankdata(Rtemp)\n",
        "    else:\n",
        "        R=rankdata(x)\n",
        "    if len(np.unique(y))>50:\n",
        "        est1 = KBinsDiscretizer(n_bins=50, encode='ordinal', strategy='uniform')\n",
        "        est1.fit(y.reshape(-1, 1))  \n",
        "        Stemp = est1.transform(y.reshape(-1, 1))\n",
        "        S=rankdata(Stemp)\n",
        "    else:\n",
        "        S=rankdata(y)      \n",
        "      \n",
        "    # core processing\n",
        "    N=x.shape\n",
        "    dico={(np.nan,np.nan):np.nan}\n",
        "    dicoRin={np.nan:np.nan}\n",
        "    dicoSin={np.nan:np.nan}\n",
        "    dicoRless={np.nan:np.nan}\n",
        "    dicoSless={np.nan:np.nan}\n",
        "    Q=np.ones(N[0])\n",
        "\n",
        "    i=0;\n",
        "    for r,s in np.nditer([R,S]):\n",
        "        r=float(r)\n",
        "        s=float(s)\n",
        "        if (r,s) in dico.keys():\n",
        "            Q[i]=dico[(r,s)]\n",
        "        else:\n",
        "          if r in dicoRin.keys():\n",
        "              isinR=dicoRin[r]\n",
        "              lessR=dicoRless[r]\n",
        "          else:\n",
        "              isinR=np.isin(R,r)\n",
        "              dicoRin[r]=isinR\n",
        "              lessR=np.less(R,r)\n",
        "              dicoRless[r]=lessR\n",
        "              \n",
        "          if s in dicoSin.keys():\n",
        "              isinS=dicoSin[s]\n",
        "              lessS=dicoSless[s]\n",
        "          else:\n",
        "              isinS=np.isin(S,s)\n",
        "              dicoSin[s]=isinS\n",
        "              lessS=np.less(S,s)\n",
        "              dicoSless[s]=lessS\n",
        "\n",
        "\n",
        "          Q[i] = Q[i] + np.count_nonzero(lessR & lessS) \\\n",
        "                + 1/4 * (np.count_nonzero(isinR & isinS)-1) \\\n",
        "                + 1/2 * (np.count_nonzero(isinR & lessS)) \\\n",
        "                 + 1/2 * (np.count_nonzero(lessR & isinS)) \n",
        "          dico[(r,s)]=Q[i]\n",
        "        i+=1\n",
        "    \n",
        "    D1 = np.sum( np.multiply((Q-1),(Q-2)) );\n",
        "    D2 = np.sum( np.multiply(np.multiply((R-1),(R-2)),np.multiply((S-1),(S-2)) ) );\n",
        "    D3 = np.sum( np.multiply(np.multiply((R-2),(S-2)),(Q-1)) );\n",
        "\n",
        "    D = 30*((N[0]-2)*(N[0]-3)*D1 + D2 - 2*(N[0]-2)*D3) / (N[0]*(N[0]-1)*(N[0]-2)*(N[0]-3)*(N[0]-4));\n",
        "\n",
        "    return D"
      ],
      "execution_count": 0,
      "outputs": []
    },
    {
      "cell_type": "code",
      "metadata": {
        "id": "-2tUsQD8phnx",
        "colab_type": "code",
        "outputId": "60fa5b24-3f87-41da-db9a-fb05504a84a5",
        "colab": {
          "base_uri": "https://localhost:8080/",
          "height": 225
        }
      },
      "source": [
        "x=np.random.randint(100, size=1000000)\n",
        "y=(np.random.randint(100, size=1000000)*x)#^6)^2+x*x\n",
        "\n",
        "\n",
        "df=pd.DataFrame(x,columns=['x'])\n",
        "df['y']=y\n",
        "#%timeit efficienthoeffdingsD_cython( x, y )\n",
        "#efficienthoeffdingsD( x, y )\n",
        "#efficienthoeffdingsD2( x, y )\n",
        "#efficienthoeffdingsD_set( x, y )\n",
        "#test1=efficienthoeffdingsD_set4( x, y )\n",
        "#%timeit test1=df['x'].corr(df['y'])\n",
        "#print('pearson:',test1)\n",
        "#test3=np.correlate(x, y, mode='valid')\n",
        "\n",
        "#%timeit efficienthoeffdingsD_set5( x, y )\n",
        "#%timeit efficienthoeffdingsD_set6( x, y )\n",
        "%timeit efficienthoeffdingsD_set8( x, y )\n",
        "#print(efficienthoeffdingsD_set6( x, y ))\n",
        "print(efficienthoeffdingsD_set8( x, y ))\n",
        "%timeit test3=df.corr('spearman')\n",
        "print('spearman:',df.corr('spearman'))\n",
        "%timeit test3=df.corr('kendall')\n",
        "print('kendall:',df.corr('kendall'))\n",
        "#efficienthoeffdingsD_numba( x, y )\n",
        "#test2=efficienthoeffdingsD_set2( x, y )\n",
        "\n",
        "%timeit efficienthoeffdingsD_candidate( x, y )\n",
        "#print(efficienthoeffdingsD_set6( x, y ))\n",
        "print(efficienthoeffdingsD_candidate( x, y ))\n",
        "#%timeit hoeffdingsD( x, y )\n",
        "#print(hoeffdingsD( x, y ))\n"
      ],
      "execution_count": 35,
      "outputs": [
        {
          "output_type": "stream",
          "text": [
            "1 loop, best of 3: 412 ms per loop\n",
            "0.1892787451017596\n",
            "1 loop, best of 3: 1.74 s per loop\n",
            "spearman:           x         y\n",
            "x  1.000000  0.665578\n",
            "y  0.665578  1.000000\n",
            "1 loop, best of 3: 301 ms per loop\n",
            "kendall:           x         y\n",
            "x  1.000000  0.503328\n",
            "y  0.503328  1.000000\n",
            "1 loop, best of 3: 328 ms per loop\n",
            "0.1892787451017596\n"
          ],
          "name": "stdout"
        }
      ]
    },
    {
      "cell_type": "code",
      "metadata": {
        "id": "r29tEoQrn5FS",
        "colab_type": "code",
        "outputId": "a58abd03-3666-46b8-939f-429d5fe92d4a",
        "colab": {
          "base_uri": "https://localhost:8080/",
          "height": 374
        }
      },
      "source": [
        "x = np.random.normal(0,1,300000)\n",
        "noise = np.random.normal(0,1,300000)\n",
        "#y=np.square(x)+noise/10\n",
        "#y=np.sqrt(x)+noise/10\n",
        "#y=np.square(np.clip(x, -0.5, -0.2))\n",
        "y=noise\n",
        "\n",
        "df=pd.DataFrame(x,columns=['x'])\n",
        "df['y']=y\n",
        "#%timeit efficienthoeffdingsD_cython( x, y )\n",
        "#testref=efficienthoeffdingsD( x, y )\n",
        "#print('hoeffding_ref:',testref)\n",
        "#efficienthoeffdingsD2( x, y )\n",
        "#efficienthoeffdingsD_set( x, y )\n",
        "#test1=efficienthoeffdingsD_set4( x, y )\n",
        "test1=df['x'].corr(df['y'])\n",
        "print('pearson:',test1)\n",
        "#test3=np.correlate(x, y, mode='valid')\n",
        "test2=efficienthoeffdingsD_set6( x, y )\n",
        "print('hoeffding:',test2)\n",
        "test2=efficienthoeffdingsD_set8( x, y )\n",
        "print('hoeffding:',test2)\n",
        "test3=df.corr('spearman')\n",
        "print('spearman:',test3.iloc[0]['y'])\n",
        "test4=df.corr('kendall')\n",
        "print('kendall:',test4.iloc[0]['y'])"
      ],
      "execution_count": 0,
      "outputs": [
        {
          "output_type": "stream",
          "text": [
            "pearson: 1.0878600144957437e-05\n"
          ],
          "name": "stdout"
        },
        {
          "output_type": "error",
          "ename": "KeyboardInterrupt",
          "evalue": "ignored",
          "traceback": [
            "\u001b[0;31m---------------------------------------------------------------------------\u001b[0m",
            "\u001b[0;31mKeyboardInterrupt\u001b[0m                         Traceback (most recent call last)",
            "\u001b[0;32m<ipython-input-16-5043856132f2>\u001b[0m in \u001b[0;36m<module>\u001b[0;34m()\u001b[0m\n\u001b[1;32m     17\u001b[0m \u001b[0mprint\u001b[0m\u001b[0;34m(\u001b[0m\u001b[0;34m'pearson:'\u001b[0m\u001b[0;34m,\u001b[0m\u001b[0mtest1\u001b[0m\u001b[0;34m)\u001b[0m\u001b[0;34m\u001b[0m\u001b[0;34m\u001b[0m\u001b[0m\n\u001b[1;32m     18\u001b[0m \u001b[0;31m#test3=np.correlate(x, y, mode='valid')\u001b[0m\u001b[0;34m\u001b[0m\u001b[0;34m\u001b[0m\u001b[0;34m\u001b[0m\u001b[0m\n\u001b[0;32m---> 19\u001b[0;31m \u001b[0mtest2\u001b[0m\u001b[0;34m=\u001b[0m\u001b[0mefficienthoeffdingsD_set6\u001b[0m\u001b[0;34m(\u001b[0m \u001b[0mx\u001b[0m\u001b[0;34m,\u001b[0m \u001b[0my\u001b[0m \u001b[0;34m)\u001b[0m\u001b[0;34m\u001b[0m\u001b[0;34m\u001b[0m\u001b[0m\n\u001b[0m\u001b[1;32m     20\u001b[0m \u001b[0mprint\u001b[0m\u001b[0;34m(\u001b[0m\u001b[0;34m'hoeffding:'\u001b[0m\u001b[0;34m,\u001b[0m\u001b[0mtest2\u001b[0m\u001b[0;34m)\u001b[0m\u001b[0;34m\u001b[0m\u001b[0;34m\u001b[0m\u001b[0m\n\u001b[1;32m     21\u001b[0m \u001b[0mtest2\u001b[0m\u001b[0;34m=\u001b[0m\u001b[0mefficienthoeffdingsD_set8\u001b[0m\u001b[0;34m(\u001b[0m \u001b[0mx\u001b[0m\u001b[0;34m,\u001b[0m \u001b[0my\u001b[0m \u001b[0;34m)\u001b[0m\u001b[0;34m\u001b[0m\u001b[0;34m\u001b[0m\u001b[0m\n",
            "\u001b[0;32m<ipython-input-10-985ebaf240e2>\u001b[0m in \u001b[0;36mefficienthoeffdingsD_set6\u001b[0;34m(x, y)\u001b[0m\n\u001b[1;32m     38\u001b[0m \u001b[0;34m\u001b[0m\u001b[0m\n\u001b[1;32m     39\u001b[0m \u001b[0;34m\u001b[0m\u001b[0m\n\u001b[0;32m---> 40\u001b[0;31m           \u001b[0mQ\u001b[0m\u001b[0;34m[\u001b[0m\u001b[0mi\u001b[0m\u001b[0;34m]\u001b[0m \u001b[0;34m=\u001b[0m \u001b[0mQ\u001b[0m\u001b[0;34m[\u001b[0m\u001b[0mi\u001b[0m\u001b[0;34m]\u001b[0m \u001b[0;34m+\u001b[0m \u001b[0mnp\u001b[0m\u001b[0;34m.\u001b[0m\u001b[0mcount_nonzero\u001b[0m\u001b[0;34m(\u001b[0m\u001b[0mlessR\u001b[0m \u001b[0;34m&\u001b[0m \u001b[0mlessS\u001b[0m\u001b[0;34m)\u001b[0m                 \u001b[0;34m+\u001b[0m \u001b[0;36m1\u001b[0m\u001b[0;34m/\u001b[0m\u001b[0;36m4\u001b[0m \u001b[0;34m*\u001b[0m \u001b[0;34m(\u001b[0m\u001b[0mnp\u001b[0m\u001b[0;34m.\u001b[0m\u001b[0mcount_nonzero\u001b[0m\u001b[0;34m(\u001b[0m\u001b[0misinR\u001b[0m \u001b[0;34m&\u001b[0m \u001b[0misinS\u001b[0m\u001b[0;34m)\u001b[0m\u001b[0;34m-\u001b[0m\u001b[0;36m1\u001b[0m\u001b[0;34m)\u001b[0m                 \u001b[0;34m+\u001b[0m \u001b[0;36m1\u001b[0m\u001b[0;34m/\u001b[0m\u001b[0;36m2\u001b[0m \u001b[0;34m*\u001b[0m \u001b[0;34m(\u001b[0m\u001b[0mnp\u001b[0m\u001b[0;34m.\u001b[0m\u001b[0mcount_nonzero\u001b[0m\u001b[0;34m(\u001b[0m\u001b[0misinR\u001b[0m \u001b[0;34m&\u001b[0m \u001b[0mlessS\u001b[0m\u001b[0;34m)\u001b[0m\u001b[0;34m)\u001b[0m                  \u001b[0;34m+\u001b[0m \u001b[0;36m1\u001b[0m\u001b[0;34m/\u001b[0m\u001b[0;36m2\u001b[0m \u001b[0;34m*\u001b[0m \u001b[0;34m(\u001b[0m\u001b[0mnp\u001b[0m\u001b[0;34m.\u001b[0m\u001b[0mcount_nonzero\u001b[0m\u001b[0;34m(\u001b[0m\u001b[0mlessR\u001b[0m \u001b[0;34m&\u001b[0m \u001b[0misinS\u001b[0m\u001b[0;34m)\u001b[0m\u001b[0;34m)\u001b[0m\u001b[0;34m\u001b[0m\u001b[0;34m\u001b[0m\u001b[0m\n\u001b[0m\u001b[1;32m     41\u001b[0m           \u001b[0mdico\u001b[0m\u001b[0;34m[\u001b[0m\u001b[0;34m(\u001b[0m\u001b[0mr\u001b[0m\u001b[0;34m,\u001b[0m\u001b[0ms\u001b[0m\u001b[0;34m)\u001b[0m\u001b[0;34m]\u001b[0m\u001b[0;34m=\u001b[0m\u001b[0mQ\u001b[0m\u001b[0;34m[\u001b[0m\u001b[0mi\u001b[0m\u001b[0;34m]\u001b[0m\u001b[0;34m\u001b[0m\u001b[0;34m\u001b[0m\u001b[0m\n\u001b[1;32m     42\u001b[0m         \u001b[0mi\u001b[0m\u001b[0;34m+=\u001b[0m\u001b[0;36m1\u001b[0m\u001b[0;34m\u001b[0m\u001b[0;34m\u001b[0m\u001b[0m\n",
            "\u001b[0;31mKeyboardInterrupt\u001b[0m: "
          ]
        }
      ]
    },
    {
      "cell_type": "code",
      "metadata": {
        "id": "xLDBKJRpYSxv",
        "colab_type": "code",
        "colab": {}
      },
      "source": [
        "x = np.array([10, 8, 13, 9, 11, 14, 6, 4, 12, 7, 5])\n",
        "y1 = np.array([8.04, 6.95, 7.58, 8.81, 8.33, 9.96, 7.24, 4.26, 10.84, 4.82, 5.68])\n",
        "y2 = np.array([9.14, 8.14, 8.74, 8.77, 9.26, 8.10, 6.13, 3.10, 9.13, 7.26, 4.74])\n",
        "y3 = np.array([7.46, 6.77, 12.74, 7.11, 7.81, 8.84, 6.08, 5.39, 8.15, 6.42, 5.73])\n",
        "x4 = np.array([8, 8, 8, 8, 8, 8, 8, 19, 8, 8, 8])\n",
        "y4 = np.array([6.58, 5.76, 7.71, 8.84, 8.47, 7.04, 5.25, 12.50, 5.56, 7.91, 6.89])\n",
        "\n",
        "df=pd.DataFrame(x,columns=['x'])\n",
        "df['y1']=y1\n",
        "df['y2']=y2\n",
        "df['y3']=y3\n",
        "df['x4']=x4\n",
        "df['y4']=y4\n",
        "#%timeit efficienthoeffdingsD_cython( x, y )\n",
        "#testref=efficienthoeffdingsD( x, y )\n",
        "#print('hoeffding_ref:',testref)\n",
        "#efficienthoeffdingsD2( x, y )\n",
        "#efficienthoeffdingsD_set( x, y )\n",
        "#test1=efficienthoeffdingsD_set4( x, y )\n",
        "\n",
        "print('pearson:',df['x'].corr(df['y1']),df['x'].corr(df['y2']),df['x'].corr(df['y3']),df['x4'].corr(df['y4']))\n",
        "#test3=np.correlate(x, y, mode='valid')\n",
        "efficienthoeffdingsD_set5( x, y1 )\n",
        "print('hoeffding:',efficienthoeffdingsD_set5( x, y1 ),efficienthoeffdingsD_set5( x, y2 ),efficienthoeffdingsD_set5( x, y3 ),efficienthoeffdingsD_set5( x4, y4 ))\n",
        "test3=df.corr('spearman')\n",
        "print('spearman:',test3)\n",
        "test4=df.corr('kendall')\n",
        "print('kendall:',test4)\n"
      ],
      "execution_count": 0,
      "outputs": []
    }
  ]
}